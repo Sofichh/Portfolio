{
 "cells": [
  {
   "cell_type": "markdown",
   "id": "9c608d89",
   "metadata": {},
   "source": [
    "В ходе A/B–тестирования целевой группе была предложена новая механика оплаты услуг на сайте, у контрольной группы оставалась базовая механика. Необходимо проанализировать итоги эксперимента и сделать вывод, стоит ли запускать новую механику оплаты на всех пользователей.\n",
    "### Входные данные\n",
    "4 csv-файла:\n",
    "* __groups.csv__ - файл с информацией о принадлежности пользователя к контрольной или экспериментальной группе (А – контроль, B – целевая группа)\n",
    "* **groups_add.csv** - дополнительный файл с пользователями, который прислали спустя 2 дня после передачи данных\n",
    "* **active_studs.csv** - файл с информацией о пользователях, которые зашли на платформу в дни проведения эксперимента.\n",
    "* __checks.csv__ - файл с информацией об оплатах пользователей в дни проведения эксперимента. "
   ]
  },
  {
   "cell_type": "code",
   "execution_count": 232,
   "id": "ce8cce3d",
   "metadata": {},
   "outputs": [],
   "source": [
    "import pandas as pd\n",
    "import numpy as np\n",
    "\n",
    "import requests\n",
    "\n",
    "from scipy.stats import norm \n",
    "\n",
    "import seaborn as sns\n",
    "import matplotlib.pyplot as plt\n",
    "\n",
    "import re"
   ]
  },
  {
   "cell_type": "code",
   "execution_count": 233,
   "id": "fd8869c3",
   "metadata": {},
   "outputs": [],
   "source": [
    "csv = [['groups.csv',';'], ['group_add.csv',','], ['active_studs.csv',','], ['checks.csv',';']]\n",
    "for doc in csv:\n",
    "    globals()[doc[0][:-4]] = pd.read_csv(doc[0], sep=doc[1])"
   ]
  },
  {
   "cell_type": "markdown",
   "id": "4873c791",
   "metadata": {},
   "source": [
    "#### Информация о содержимом файлов:"
   ]
  },
  {
   "cell_type": "code",
   "execution_count": 234,
   "id": "7ca59c7a",
   "metadata": {},
   "outputs": [
    {
     "name": "stdout",
     "output_type": "stream",
     "text": [
      "     id grp\n",
      "0  1489   B\n",
      "1  1627   A\n",
      "2  1768   B\n",
      "3  1783   B\n",
      "4  1794   A \n",
      "\n",
      "Число уникальных ID: 74484 \n",
      "\n",
      "<class 'pandas.core.frame.DataFrame'>\n",
      "RangeIndex: 74484 entries, 0 to 74483\n",
      "Data columns (total 2 columns):\n",
      " #   Column  Non-Null Count  Dtype \n",
      "---  ------  --------------  ----- \n",
      " 0   id      74484 non-null  int64 \n",
      " 1   grp     74484 non-null  object\n",
      "dtypes: int64(1), object(1)\n",
      "memory usage: 1.1+ MB\n",
      "None\n"
     ]
    }
   ],
   "source": [
    "print(groups.head(), '\\n')\n",
    "print('Число уникальных ID:', groups.id.nunique(), '\\n')\n",
    "print(groups.info())\n"
   ]
  },
  {
   "cell_type": "code",
   "execution_count": 235,
   "id": "1c3025c0",
   "metadata": {},
   "outputs": [
    {
     "name": "stdout",
     "output_type": "stream",
     "text": [
      "        id grp\n",
      "0  5694584   B\n",
      "1  5694830   B\n",
      "2  5695057   B\n",
      "3  5698872   B\n",
      "4  5699067   B \n",
      "\n",
      "Число уникальных ID: 92 \n",
      "\n",
      "<class 'pandas.core.frame.DataFrame'>\n",
      "RangeIndex: 92 entries, 0 to 91\n",
      "Data columns (total 2 columns):\n",
      " #   Column  Non-Null Count  Dtype \n",
      "---  ------  --------------  ----- \n",
      " 0   id      92 non-null     int64 \n",
      " 1   grp     92 non-null     object\n",
      "dtypes: int64(1), object(1)\n",
      "memory usage: 1.6+ KB\n",
      "None\n"
     ]
    }
   ],
   "source": [
    "print(group_add.head(), '\\n')\n",
    "print('Число уникальных ID:', group_add.id.nunique(), '\\n')\n",
    "print(group_add.info())"
   ]
  },
  {
   "cell_type": "code",
   "execution_count": 236,
   "id": "55cee566",
   "metadata": {},
   "outputs": [
    {
     "name": "stdout",
     "output_type": "stream",
     "text": [
      "   student_id\n",
      "0      581585\n",
      "1     5723133\n",
      "2     3276743\n",
      "3     4238589\n",
      "4     4475369 \n",
      "\n",
      "Число уникальных ID: 8341 \n",
      "\n",
      "<class 'pandas.core.frame.DataFrame'>\n",
      "RangeIndex: 8341 entries, 0 to 8340\n",
      "Data columns (total 1 columns):\n",
      " #   Column      Non-Null Count  Dtype\n",
      "---  ------      --------------  -----\n",
      " 0   student_id  8341 non-null   int64\n",
      "dtypes: int64(1)\n",
      "memory usage: 65.3 KB\n",
      "None\n"
     ]
    }
   ],
   "source": [
    "print(active_studs.head(), '\\n')\n",
    "print('Число уникальных ID:', active_studs.student_id.nunique(), '\\n')\n",
    "print(active_studs.info())"
   ]
  },
  {
   "cell_type": "code",
   "execution_count": 237,
   "id": "933966ff",
   "metadata": {},
   "outputs": [
    {
     "name": "stdout",
     "output_type": "stream",
     "text": [
      "   student_id    rev\n",
      "0        1627  990.0\n",
      "1        3185  690.0\n",
      "2       25973  690.0\n",
      "3       26280  690.0\n",
      "4      100300  990.0 \n",
      "\n",
      "Число уникальных ID: 541 \n",
      "\n",
      "<class 'pandas.core.frame.DataFrame'>\n",
      "RangeIndex: 541 entries, 0 to 540\n",
      "Data columns (total 2 columns):\n",
      " #   Column      Non-Null Count  Dtype  \n",
      "---  ------      --------------  -----  \n",
      " 0   student_id  541 non-null    int64  \n",
      " 1   rev         541 non-null    float64\n",
      "dtypes: float64(1), int64(1)\n",
      "memory usage: 8.6 KB\n",
      "None\n"
     ]
    }
   ],
   "source": [
    "print(checks.head(), '\\n')\n",
    "print('Число уникальных ID:', checks.student_id.nunique(), '\\n')\n",
    "print(checks.info())"
   ]
  },
  {
   "cell_type": "markdown",
   "id": "90f5630f",
   "metadata": {},
   "source": [
    "#### Проверим учет groups_add в active_studs и checks:"
   ]
  },
  {
   "cell_type": "code",
   "execution_count": 238,
   "id": "5b079932",
   "metadata": {},
   "outputs": [
    {
     "name": "stdout",
     "output_type": "stream",
     "text": [
      "в active_studs: 13 , а в checks: 1 пользователей из groups_add\n"
     ]
    }
   ],
   "source": [
    "print('в active_studs:', group_add.query('id in @active_studs.student_id').shape[0], ', а в checks:', \n",
    "      group_add.query('id in @checks.student_id').shape[0], 'пользователей из groups_add')"
   ]
  },
  {
   "cell_type": "markdown",
   "id": "297f29f1",
   "metadata": {},
   "source": [
    "#### Соединим groups с group_add:"
   ]
  },
  {
   "cell_type": "code",
   "execution_count": 239,
   "id": "81a18615",
   "metadata": {},
   "outputs": [
    {
     "name": "stdout",
     "output_type": "stream",
     "text": [
      "До соединения: 74576 строк\n",
      "После соединения: 74576 строк\n"
     ]
    }
   ],
   "source": [
    "total_groups = pd.concat([groups, group_add])\n",
    "print('До соединения:', groups.shape[0]+group_add.shape[0], 'строк')\n",
    "print('После соединения:', total_groups.shape[0], 'строк')"
   ]
  },
  {
   "cell_type": "markdown",
   "id": "cff0a170",
   "metadata": {},
   "source": [
    "#### Посмотрим на распределение пользователей по группам"
   ]
  },
  {
   "cell_type": "code",
   "execution_count": 240,
   "id": "d31f509a",
   "metadata": {},
   "outputs": [
    {
     "name": "stdout",
     "output_type": "stream",
     "text": [
      "Общее число пользователей в группе А: 14693 , в группе B: 59883\n",
      "Число активных пользователей в группе А: 1538 , в группе B: 6803\n",
      "Число оплативших пользователей в группе А: 107 , в группе B: 434\n"
     ]
    }
   ],
   "source": [
    "print('Общее число пользователей в группе А:', total_groups.grp.value_counts()[1], ', в группе B:', total_groups.grp.value_counts()[0])\n",
    "print('Число активных пользователей в группе А:', total_groups.query('id in @active_studs.student_id').grp.value_counts()[1], \n",
    "      ', в группе B:', total_groups.query('id in @active_studs.student_id').grp.value_counts()[0])\n",
    "print('Число оплативших пользователей в группе А:', total_groups.query('id in @checks.student_id').grp.value_counts()[1], \n",
    "      ', в группе B:', total_groups.query('id in @checks.student_id').grp.value_counts()[0])"
   ]
  },
  {
   "cell_type": "code",
   "execution_count": 241,
   "id": "fd25a505",
   "metadata": {},
   "outputs": [
    {
     "name": "stdout",
     "output_type": "stream",
     "text": [
      "Число активных пользователей, не входящих в общий список: 0\n",
      "Число оплативших пользователей, не входящих в общий список: 0\n",
      "Число оплативших пользователей, не входящих в список активных: 149\n",
      "Число оплативших пользователей, не входящих в список активных в группе А: 29 , в группе B: 120\n"
     ]
    }
   ],
   "source": [
    "print('Число активных пользователей, не входящих в общий список:', active_studs.query('student_id not in @total_groups.id').shape[0])\n",
    "print('Число оплативших пользователей, не входящих в общий список:', checks.query('student_id not in @total_groups.id').shape[0])\n",
    "print('Число оплативших пользователей, не входящих в список активных:', checks.query('student_id not in @active_studs.student_id').shape[0])\n",
    "print('Число оплативших пользователей, не входящих в список активных в группе А:', total_groups.query('id not in @active_studs.student_id and id in @checks.student_id').grp.value_counts()[1],\n",
    "     ', в группе B:', total_groups.query('id not in @active_studs.student_id and id in @checks.student_id').grp.value_counts()[0])"
   ]
  },
  {
   "cell_type": "markdown",
   "id": "ed4a70ae",
   "metadata": {},
   "source": [
    "##### Наличие платежей не от активных пользователей может быть связано либо c автоплатежами, либо с багом.\n",
    "На число данных пользователей не влияет изменение механизма оплаты, так как они не заходили на платформу. Вследствие этого их можно не включать в выборки при проведении теста. __Оплатившими__ будем считать только __активных оплативших__:"
   ]
  },
  {
   "cell_type": "code",
   "execution_count": 242,
   "id": "09827e8e",
   "metadata": {},
   "outputs": [
    {
     "data": {
      "text/html": [
       "<div>\n",
       "<style scoped>\n",
       "    .dataframe tbody tr th:only-of-type {\n",
       "        vertical-align: middle;\n",
       "    }\n",
       "\n",
       "    .dataframe tbody tr th {\n",
       "        vertical-align: top;\n",
       "    }\n",
       "\n",
       "    .dataframe thead th {\n",
       "        text-align: right;\n",
       "    }\n",
       "</style>\n",
       "<table border=\"1\" class=\"dataframe\">\n",
       "  <thead>\n",
       "    <tr style=\"text-align: right;\">\n",
       "      <th></th>\n",
       "      <th>id</th>\n",
       "      <th>rev</th>\n",
       "    </tr>\n",
       "  </thead>\n",
       "  <tbody>\n",
       "    <tr>\n",
       "      <th>0</th>\n",
       "      <td>581585</td>\n",
       "      <td>NaN</td>\n",
       "    </tr>\n",
       "    <tr>\n",
       "      <th>1</th>\n",
       "      <td>5723133</td>\n",
       "      <td>NaN</td>\n",
       "    </tr>\n",
       "    <tr>\n",
       "      <th>2</th>\n",
       "      <td>3276743</td>\n",
       "      <td>NaN</td>\n",
       "    </tr>\n",
       "    <tr>\n",
       "      <th>3</th>\n",
       "      <td>4238589</td>\n",
       "      <td>NaN</td>\n",
       "    </tr>\n",
       "    <tr>\n",
       "      <th>4</th>\n",
       "      <td>4475369</td>\n",
       "      <td>NaN</td>\n",
       "    </tr>\n",
       "  </tbody>\n",
       "</table>\n",
       "</div>"
      ],
      "text/plain": [
       "        id  rev\n",
       "0   581585  NaN\n",
       "1  5723133  NaN\n",
       "2  3276743  NaN\n",
       "3  4238589  NaN\n",
       "4  4475369  NaN"
      ]
     },
     "execution_count": 242,
     "metadata": {},
     "output_type": "execute_result"
    }
   ],
   "source": [
    "checks_active = (\n",
    "                active_studs\n",
    "                .merge(checks, how='left', on='student_id')\n",
    "                .rename(columns={'student_id': 'id'})\n",
    "                )\n",
    "checks_active.head()"
   ]
  },
  {
   "cell_type": "markdown",
   "id": "b74f7af0",
   "metadata": {},
   "source": [
    "#### Теперь объединим всех активных оплативших с total_groups и оставим только активных."
   ]
  },
  {
   "cell_type": "code",
   "execution_count": 243,
   "id": "150491e1",
   "metadata": {},
   "outputs": [
    {
     "data": {
      "text/html": [
       "<div>\n",
       "<style scoped>\n",
       "    .dataframe tbody tr th:only-of-type {\n",
       "        vertical-align: middle;\n",
       "    }\n",
       "\n",
       "    .dataframe tbody tr th {\n",
       "        vertical-align: top;\n",
       "    }\n",
       "\n",
       "    .dataframe thead th {\n",
       "        text-align: right;\n",
       "    }\n",
       "</style>\n",
       "<table border=\"1\" class=\"dataframe\">\n",
       "  <thead>\n",
       "    <tr style=\"text-align: right;\">\n",
       "      <th></th>\n",
       "      <th>id</th>\n",
       "      <th>grp</th>\n",
       "      <th>rev</th>\n",
       "      <th>payment</th>\n",
       "    </tr>\n",
       "  </thead>\n",
       "  <tbody>\n",
       "    <tr>\n",
       "      <th>0</th>\n",
       "      <td>581585</td>\n",
       "      <td>A</td>\n",
       "      <td>NaN</td>\n",
       "      <td>0</td>\n",
       "    </tr>\n",
       "    <tr>\n",
       "      <th>1</th>\n",
       "      <td>5723133</td>\n",
       "      <td>A</td>\n",
       "      <td>NaN</td>\n",
       "      <td>0</td>\n",
       "    </tr>\n",
       "    <tr>\n",
       "      <th>2</th>\n",
       "      <td>3276743</td>\n",
       "      <td>B</td>\n",
       "      <td>NaN</td>\n",
       "      <td>0</td>\n",
       "    </tr>\n",
       "    <tr>\n",
       "      <th>3</th>\n",
       "      <td>4238589</td>\n",
       "      <td>A</td>\n",
       "      <td>NaN</td>\n",
       "      <td>0</td>\n",
       "    </tr>\n",
       "    <tr>\n",
       "      <th>4</th>\n",
       "      <td>4475369</td>\n",
       "      <td>B</td>\n",
       "      <td>NaN</td>\n",
       "      <td>0</td>\n",
       "    </tr>\n",
       "  </tbody>\n",
       "</table>\n",
       "</div>"
      ],
      "text/plain": [
       "        id grp  rev  payment\n",
       "0   581585   A  NaN        0\n",
       "1  5723133   A  NaN        0\n",
       "2  3276743   B  NaN        0\n",
       "3  4238589   A  NaN        0\n",
       "4  4475369   B  NaN        0"
      ]
     },
     "execution_count": 243,
     "metadata": {},
     "output_type": "execute_result"
    }
   ],
   "source": [
    "active_total = total_groups.merge(checks_active, how='right', on='id')\n",
    "active_total['payment'] = active_total.rev.apply(lambda x: 0 if np.isnan(x) else 1)\n",
    "active_total.head()"
   ]
  },
  {
   "cell_type": "markdown",
   "id": "6df46f73",
   "metadata": {},
   "source": [
    "#### Очистим от NaN колонку с суммой оплаты. Заменим NaN на 0."
   ]
  },
  {
   "cell_type": "code",
   "execution_count": 244,
   "id": "3ae8294f",
   "metadata": {},
   "outputs": [],
   "source": [
    "active_total['rev'] = active_total.rev.fillna(0)"
   ]
  },
  {
   "cell_type": "code",
   "execution_count": 245,
   "id": "ecb4d9bc",
   "metadata": {},
   "outputs": [],
   "source": [
    "a_active  = active_total.query('grp == \"A\"')"
   ]
  },
  {
   "cell_type": "code",
   "execution_count": 246,
   "id": "f7924c24",
   "metadata": {},
   "outputs": [],
   "source": [
    "b_active  = active_total.query('grp == \"B\"')"
   ]
  },
  {
   "cell_type": "code",
   "execution_count": 247,
   "id": "eb4001d0",
   "metadata": {},
   "outputs": [
    {
     "data": {
      "text/html": [
       "<div>\n",
       "<style scoped>\n",
       "    .dataframe tbody tr th:only-of-type {\n",
       "        vertical-align: middle;\n",
       "    }\n",
       "\n",
       "    .dataframe tbody tr th {\n",
       "        vertical-align: top;\n",
       "    }\n",
       "\n",
       "    .dataframe thead th {\n",
       "        text-align: right;\n",
       "    }\n",
       "</style>\n",
       "<table border=\"1\" class=\"dataframe\">\n",
       "  <thead>\n",
       "    <tr style=\"text-align: right;\">\n",
       "      <th></th>\n",
       "      <th>id</th>\n",
       "      <th>grp</th>\n",
       "      <th>rev</th>\n",
       "      <th>payment</th>\n",
       "    </tr>\n",
       "  </thead>\n",
       "  <tbody>\n",
       "    <tr>\n",
       "      <th>62</th>\n",
       "      <td>1184303</td>\n",
       "      <td>A</td>\n",
       "      <td>1530.0</td>\n",
       "      <td>1</td>\n",
       "    </tr>\n",
       "    <tr>\n",
       "      <th>99</th>\n",
       "      <td>720651</td>\n",
       "      <td>A</td>\n",
       "      <td>1980.0</td>\n",
       "      <td>1</td>\n",
       "    </tr>\n",
       "    <tr>\n",
       "      <th>306</th>\n",
       "      <td>4337103</td>\n",
       "      <td>A</td>\n",
       "      <td>580.0</td>\n",
       "      <td>1</td>\n",
       "    </tr>\n",
       "    <tr>\n",
       "      <th>392</th>\n",
       "      <td>332387</td>\n",
       "      <td>A</td>\n",
       "      <td>2910.0</td>\n",
       "      <td>1</td>\n",
       "    </tr>\n",
       "    <tr>\n",
       "      <th>439</th>\n",
       "      <td>1659434</td>\n",
       "      <td>A</td>\n",
       "      <td>690.0</td>\n",
       "      <td>1</td>\n",
       "    </tr>\n",
       "  </tbody>\n",
       "</table>\n",
       "</div>"
      ],
      "text/plain": [
       "          id grp     rev  payment\n",
       "62   1184303   A  1530.0        1\n",
       "99    720651   A  1980.0        1\n",
       "306  4337103   A   580.0        1\n",
       "392   332387   A  2910.0        1\n",
       "439  1659434   A   690.0        1"
      ]
     },
     "execution_count": 247,
     "metadata": {},
     "output_type": "execute_result"
    }
   ],
   "source": [
    "a_active_paid = a_active.query('rev > 0')\n",
    "a_active_paid.head()"
   ]
  },
  {
   "cell_type": "code",
   "execution_count": 248,
   "id": "20e5d9a1",
   "metadata": {},
   "outputs": [
    {
     "data": {
      "text/html": [
       "<div>\n",
       "<style scoped>\n",
       "    .dataframe tbody tr th:only-of-type {\n",
       "        vertical-align: middle;\n",
       "    }\n",
       "\n",
       "    .dataframe tbody tr th {\n",
       "        vertical-align: top;\n",
       "    }\n",
       "\n",
       "    .dataframe thead th {\n",
       "        text-align: right;\n",
       "    }\n",
       "</style>\n",
       "<table border=\"1\" class=\"dataframe\">\n",
       "  <thead>\n",
       "    <tr style=\"text-align: right;\">\n",
       "      <th></th>\n",
       "      <th>id</th>\n",
       "      <th>grp</th>\n",
       "      <th>rev</th>\n",
       "      <th>payment</th>\n",
       "    </tr>\n",
       "  </thead>\n",
       "  <tbody>\n",
       "    <tr>\n",
       "      <th>67</th>\n",
       "      <td>3354191</td>\n",
       "      <td>B</td>\n",
       "      <td>1900.0001</td>\n",
       "      <td>1</td>\n",
       "    </tr>\n",
       "    <tr>\n",
       "      <th>77</th>\n",
       "      <td>3278734</td>\n",
       "      <td>B</td>\n",
       "      <td>1900.0000</td>\n",
       "      <td>1</td>\n",
       "    </tr>\n",
       "    <tr>\n",
       "      <th>193</th>\n",
       "      <td>1232221</td>\n",
       "      <td>B</td>\n",
       "      <td>1900.0000</td>\n",
       "      <td>1</td>\n",
       "    </tr>\n",
       "    <tr>\n",
       "      <th>195</th>\n",
       "      <td>3821501</td>\n",
       "      <td>B</td>\n",
       "      <td>1900.0000</td>\n",
       "      <td>1</td>\n",
       "    </tr>\n",
       "    <tr>\n",
       "      <th>211</th>\n",
       "      <td>1036096</td>\n",
       "      <td>B</td>\n",
       "      <td>1900.0000</td>\n",
       "      <td>1</td>\n",
       "    </tr>\n",
       "  </tbody>\n",
       "</table>\n",
       "</div>"
      ],
      "text/plain": [
       "          id grp        rev  payment\n",
       "67   3354191   B  1900.0001        1\n",
       "77   3278734   B  1900.0000        1\n",
       "193  1232221   B  1900.0000        1\n",
       "195  3821501   B  1900.0000        1\n",
       "211  1036096   B  1900.0000        1"
      ]
     },
     "execution_count": 248,
     "metadata": {},
     "output_type": "execute_result"
    }
   ],
   "source": [
    "b_active_paid = b_active.query('rev > 0')\n",
    "b_active_paid.head()"
   ]
  },
  {
   "cell_type": "code",
   "execution_count": 249,
   "id": "de766b41",
   "metadata": {},
   "outputs": [
    {
     "data": {
      "image/png": "[encoded data removed]",
      "text/plain": [
       "<Figure size 432x288 with 1 Axes>"
      ]
     },
     "metadata": {
      "needs_background": "light"
     },
     "output_type": "display_data"
    }
   ],
   "source": [
    "a_active_paid.rev.hist(bins=60)\n",
    "sns.despine()"
   ]
  },
  {
   "cell_type": "code",
   "execution_count": 250,
   "id": "a8d5958a",
   "metadata": {},
   "outputs": [
    {
     "data": {
      "image/png": "[encoded data removed]",
      "text/plain": [
       "<Figure size 432x288 with 1 Axes>"
      ]
     },
     "metadata": {
      "needs_background": "light"
     },
     "output_type": "display_data"
    }
   ],
   "source": [
    "b_active_paid.rev.hist(bins=60)\n",
    "sns.despine()"
   ]
  },
  {
   "cell_type": "code",
   "execution_count": 251,
   "id": "cd7a8a29",
   "metadata": {},
   "outputs": [
    {
     "data": {
      "text/html": [
       "<div>\n",
       "<style scoped>\n",
       "    .dataframe tbody tr th:only-of-type {\n",
       "        vertical-align: middle;\n",
       "    }\n",
       "\n",
       "    .dataframe tbody tr th {\n",
       "        vertical-align: top;\n",
       "    }\n",
       "\n",
       "    .dataframe thead th {\n",
       "        text-align: right;\n",
       "    }\n",
       "</style>\n",
       "<table border=\"1\" class=\"dataframe\">\n",
       "  <thead>\n",
       "    <tr style=\"text-align: right;\">\n",
       "      <th></th>\n",
       "      <th>group A</th>\n",
       "      <th>group B</th>\n",
       "    </tr>\n",
       "  </thead>\n",
       "  <tbody>\n",
       "    <tr>\n",
       "      <th>count</th>\n",
       "      <td>1538.000000</td>\n",
       "      <td>6803.000000</td>\n",
       "    </tr>\n",
       "    <tr>\n",
       "      <th>mean</th>\n",
       "      <td>47.347204</td>\n",
       "      <td>58.058798</td>\n",
       "    </tr>\n",
       "    <tr>\n",
       "      <th>std</th>\n",
       "      <td>290.490632</td>\n",
       "      <td>313.770201</td>\n",
       "    </tr>\n",
       "    <tr>\n",
       "      <th>min</th>\n",
       "      <td>0.000000</td>\n",
       "      <td>0.000000</td>\n",
       "    </tr>\n",
       "    <tr>\n",
       "      <th>25%</th>\n",
       "      <td>0.000000</td>\n",
       "      <td>0.000000</td>\n",
       "    </tr>\n",
       "    <tr>\n",
       "      <th>50%</th>\n",
       "      <td>0.000000</td>\n",
       "      <td>0.000000</td>\n",
       "    </tr>\n",
       "    <tr>\n",
       "      <th>75%</th>\n",
       "      <td>0.000000</td>\n",
       "      <td>0.000000</td>\n",
       "    </tr>\n",
       "    <tr>\n",
       "      <th>max</th>\n",
       "      <td>3660.000000</td>\n",
       "      <td>4650.000000</td>\n",
       "    </tr>\n",
       "  </tbody>\n",
       "</table>\n",
       "</div>"
      ],
      "text/plain": [
       "           group A      group B\n",
       "count  1538.000000  6803.000000\n",
       "mean     47.347204    58.058798\n",
       "std     290.490632   313.770201\n",
       "min       0.000000     0.000000\n",
       "25%       0.000000     0.000000\n",
       "50%       0.000000     0.000000\n",
       "75%       0.000000     0.000000\n",
       "max    3660.000000  4650.000000"
      ]
     },
     "execution_count": 251,
     "metadata": {},
     "output_type": "execute_result"
    }
   ],
   "source": [
    "a_inf=a_active.rev.describe().to_frame().rename(columns={'rev':'group A'})\n",
    "b_inf=b_active.rev.describe().to_frame().rename(columns={'rev':'group B'})\n",
    "pd.concat([a_inf, b_inf],axis=1)"
   ]
  },
  {
   "cell_type": "code",
   "execution_count": 252,
   "id": "ea57e9dc",
   "metadata": {},
   "outputs": [
    {
     "data": {
      "text/html": [
       "<div>\n",
       "<style scoped>\n",
       "    .dataframe tbody tr th:only-of-type {\n",
       "        vertical-align: middle;\n",
       "    }\n",
       "\n",
       "    .dataframe tbody tr th {\n",
       "        vertical-align: top;\n",
       "    }\n",
       "\n",
       "    .dataframe thead th {\n",
       "        text-align: right;\n",
       "    }\n",
       "</style>\n",
       "<table border=\"1\" class=\"dataframe\">\n",
       "  <thead>\n",
       "    <tr style=\"text-align: right;\">\n",
       "      <th></th>\n",
       "      <th>group A</th>\n",
       "      <th>group B</th>\n",
       "    </tr>\n",
       "  </thead>\n",
       "  <tbody>\n",
       "    <tr>\n",
       "      <th>count</th>\n",
       "      <td>78.000000</td>\n",
       "      <td>314.000000</td>\n",
       "    </tr>\n",
       "    <tr>\n",
       "      <th>mean</th>\n",
       "      <td>933.589744</td>\n",
       "      <td>1257.878992</td>\n",
       "    </tr>\n",
       "    <tr>\n",
       "      <th>std</th>\n",
       "      <td>919.932711</td>\n",
       "      <td>790.864254</td>\n",
       "    </tr>\n",
       "    <tr>\n",
       "      <th>min</th>\n",
       "      <td>199.000000</td>\n",
       "      <td>199.000000</td>\n",
       "    </tr>\n",
       "    <tr>\n",
       "      <th>25%</th>\n",
       "      <td>290.000000</td>\n",
       "      <td>511.750000</td>\n",
       "    </tr>\n",
       "    <tr>\n",
       "      <th>50%</th>\n",
       "      <td>585.000000</td>\n",
       "      <td>1140.000000</td>\n",
       "    </tr>\n",
       "    <tr>\n",
       "      <th>75%</th>\n",
       "      <td>1114.750000</td>\n",
       "      <td>1900.000000</td>\n",
       "    </tr>\n",
       "    <tr>\n",
       "      <th>max</th>\n",
       "      <td>3660.000000</td>\n",
       "      <td>4650.000000</td>\n",
       "    </tr>\n",
       "  </tbody>\n",
       "</table>\n",
       "</div>"
      ],
      "text/plain": [
       "           group A      group B\n",
       "count    78.000000   314.000000\n",
       "mean    933.589744  1257.878992\n",
       "std     919.932711   790.864254\n",
       "min     199.000000   199.000000\n",
       "25%     290.000000   511.750000\n",
       "50%     585.000000  1140.000000\n",
       "75%    1114.750000  1900.000000\n",
       "max    3660.000000  4650.000000"
      ]
     },
     "execution_count": 252,
     "metadata": {},
     "output_type": "execute_result"
    }
   ],
   "source": [
    "a_inf_paid=a_active_paid.rev.describe().to_frame().rename(columns={'rev':'group A'})\n",
    "b_inf_paid=b_active_paid.rev.describe().to_frame().rename(columns={'rev':'group B'})\n",
    "pd.concat([a_inf_paid, b_inf_paid],axis=1)"
   ]
  },
  {
   "cell_type": "code",
   "execution_count": 253,
   "id": "c9780c56",
   "metadata": {},
   "outputs": [
    {
     "data": {
      "image/png": "[encoded data removed]",
      "text/plain": [
       "<Figure size 432x288 with 1 Axes>"
      ]
     },
     "metadata": {
      "needs_background": "light"
     },
     "output_type": "display_data"
    }
   ],
   "source": [
    "sns.boxplot(data=active_total, y='rev', x='grp')\n",
    "sns.despine()"
   ]
  },
  {
   "cell_type": "code",
   "execution_count": 254,
   "id": "8a706698",
   "metadata": {},
   "outputs": [
    {
     "data": {
      "image/png": "[encoded data removed]",
      "text/plain": [
       "<Figure size 432x288 with 1 Axes>"
      ]
     },
     "metadata": {
      "needs_background": "light"
     },
     "output_type": "display_data"
    }
   ],
   "source": [
    "active_total_paid = active_total.query('rev > 0')\n",
    "sns.boxplot(data=active_total_paid, y='rev', x='grp')\n",
    "sns.despine()"
   ]
  },
  {
   "cell_type": "markdown",
   "id": "545a00ca",
   "metadata": {},
   "source": [
    "#### Для анализа эффекта изменения процесса оплаты стоит обратить внимание на следующие метрики:\n",
    "* __CR__ - конверсия в платеж (отношение пользователей, совершивших оплату, к общему числу активных пользователей).\n",
    "Существенная разница между значениями данного показателя у сравниваемых групп может означать, что изменение метода оплаты влияет на выбор пользователя. Большее значение метрики может отвечать, например, более удобному и простому механизму.\n",
    "* __ARPU__ - средний доход на пользователя (Чем выше этот показатель, тем эффективнее бизнес)\n",
    "* __ARPPU__ - средний доход на платящего пользователя (аналогично)"
   ]
  },
  {
   "cell_type": "code",
   "execution_count": 255,
   "id": "46ac8728",
   "metadata": {},
   "outputs": [
    {
     "name": "stdout",
     "output_type": "stream",
     "text": [
      "CR\n",
      " группы A: 5.07 %\n",
      " группы B: 4.62 %\n",
      "\n",
      "Конверсия группы В на 8.9 % меньше конверсии группы А\n"
     ]
    }
   ],
   "source": [
    "CRa = round(a_active_paid.id.nunique()/a_active.id.nunique(), 4)*100\n",
    "CRb = round(b_active_paid.id.nunique()/b_active.id.nunique(), 4)*100\n",
    "deltaCR = round((CRb-CRa)/CRa*100, 1)\n",
    "print('CR\\n группы A:', CRa, '%\\n', \n",
    "      'группы B:', CRb, '%\\n')\n",
    "print('Конверсия группы В на', abs(deltaCR), '%', 'меньше конверсии группы А' if deltaCR < 0 else 'больше конверсии группы А')"
   ]
  },
  {
   "cell_type": "code",
   "execution_count": 256,
   "id": "c71115d2",
   "metadata": {},
   "outputs": [
    {
     "name": "stdout",
     "output_type": "stream",
     "text": [
      "ARPU\n",
      " группы A: 47.35 \n",
      " группы B: 58.06 \n",
      "\n",
      "Средний доход на пользователя в группе В на 22.62 % больше, чем в группе А\n"
     ]
    }
   ],
   "source": [
    "ARPUa = round(a_active_paid.rev.sum()/a_active.id.nunique(), 2)\n",
    "ARPUb = round(b_active_paid.rev.sum()/b_active.id.nunique(), 2)\n",
    "deltaARPU = round((ARPUb-ARPUa)/ARPUa*100, 2)\n",
    "print('ARPU\\n группы A:', ARPUa, '\\n', \n",
    "      'группы B:', ARPUb, '\\n')\n",
    "print('Средний доход на пользователя в группе В на', abs(deltaARPU), '%', 'меньше, чем в группе А' if deltaARPU < 0 else 'больше, чем в группе А')"
   ]
  },
  {
   "cell_type": "code",
   "execution_count": 257,
   "id": "60be5528",
   "metadata": {},
   "outputs": [
    {
     "name": "stdout",
     "output_type": "stream",
     "text": [
      "ARPU\n",
      " группы A: 933.59 \n",
      " группы B: 1257.88 \n",
      "\n",
      "Средний доход на платящего пользователя в группе В на 34.74 % больше, чем в группе А\n"
     ]
    }
   ],
   "source": [
    "ARPPUa = round(a_active_paid.rev.sum()/a_active_paid.id.nunique(), 2)\n",
    "ARPPUb = round(b_active_paid.rev.sum()/b_active_paid.id.nunique(), 2)\n",
    "deltaARPPU = round((ARPPUb-ARPPUa)/ARPPUa*100, 2)\n",
    "print('ARPU\\n группы A:', ARPPUa, '\\n', \n",
    "      'группы B:', ARPPUb, '\\n')\n",
    "print('Средний доход на платящего пользователя в группе В на', abs(deltaARPPU), '%', 'меньше, чем в группе А' if deltaARPPU < 0 else 'больше, чем в группе А')"
   ]
  },
  {
   "cell_type": "markdown",
   "id": "d5b6304c",
   "metadata": {},
   "source": [
    "#### На основании полученных результатов видно, что конверсия целевой группы упала, однако средний доход на пользователя/покупателя увеличился. Значит, в целевой группе вырос средний чек."
   ]
  },
  {
   "cell_type": "markdown",
   "id": "44a00b74",
   "metadata": {},
   "source": [
    "#### Проверка различий на статистическую значимость"
   ]
  },
  {
   "cell_type": "markdown",
   "id": "8ae1c8c2",
   "metadata": {},
   "source": [
    "Так как размеры групп сильно различаются, применение классических критериев затруднительно. В этом случае хорошо подходит Bootstrap."
   ]
  },
  {
   "cell_type": "code",
   "execution_count": 258,
   "id": "8ff12870",
   "metadata": {},
   "outputs": [],
   "source": [
    "def get_bootstrap(\n",
    "    data_column_1,                       # значения контрольной выборки\n",
    "    data_column_2,                       # значения тестовой выборки\n",
    "    boot_it   = 1000,                    # количество бутстрэп-подвыборок\n",
    "    statistic = np.mean,                 # интересующая статистика\n",
    "    bootstrap_conf_level = 0.95,         # уровень значимости\n",
    "    graph         = True,                # отрисовка графика\n",
    "    ):\n",
    "    boot_len  = max([len(data_column_1), len(data_column_2)])\n",
    "    boot_data = []\n",
    "    \n",
    "        \n",
    "    for i in range(boot_it):       \n",
    "        samples_1 = data_column_1.sample(\n",
    "            boot_len, \n",
    "            replace = True                        # параметр возвращения\n",
    "        ).values\n",
    "        \n",
    "        samples_2 = data_column_2.sample(\n",
    "            boot_len, \n",
    "            replace = True\n",
    "        ).values\n",
    "        \n",
    "        samples_delta = samples_2 - samples_1      # находим разницу подвыборок\n",
    "        boot_data.append(statistic(samples_delta)) # применяем статистику для разниц подвыборок\n",
    "        \n",
    "    pd_boot_data = pd.DataFrame(boot_data)\n",
    "\n",
    "    # доверительный интервал \n",
    "    left_quant  = (1 - bootstrap_conf_level)/2\n",
    "    right_quant = 1 - (1 - bootstrap_conf_level) / 2\n",
    "    ci = pd_boot_data.quantile([left_quant, right_quant])\n",
    "        \n",
    "    p_1 = norm.cdf(\n",
    "        x     = 0, \n",
    "        loc   = np.mean(boot_data), \n",
    "        scale = np.std(boot_data)\n",
    "    )\n",
    "    p_2 = norm.cdf(\n",
    "        x     = 0, \n",
    "        loc   = -np.mean(boot_data), \n",
    "        scale = np.std(boot_data)\n",
    "    )\n",
    "    p_value = min(p_1, p_2) * 2\n",
    "        \n",
    "    # отисовка графиков\n",
    "    if graph == True:\n",
    "        plt.hist(pd_boot_data[0], bins = 50)\n",
    "        plt.style.use('ggplot')\n",
    "        plt.vlines(ci, ymin=0, ymax=50, linestyle='--')\n",
    "        plt.xlabel('boot_data')\n",
    "        plt.ylabel('frequency')\n",
    "        plt.title(\"Histogram of boot_data\")\n",
    "        plt.show()\n",
    "       \n",
    "    return {\"ci\": ci, \n",
    "            \"p_value\": p_value}"
   ]
  },
  {
   "cell_type": "code",
   "execution_count": 263,
   "id": "e562f817",
   "metadata": {},
   "outputs": [],
   "source": [
    "def cr_func(x):             # Передаем серию со значениями 1(был платеж) и 0(не было)\n",
    "    \n",
    "    return sum(x) / len(x)\n",
    "\n",
    "def arpu_func(y):\n",
    "    \n",
    "    return np.mean(y)\n",
    "\n",
    "def arppu_func(y):          # Передаем серию только с платежами\n",
    "    \n",
    "    return np.mean(y)"
   ]
  },
  {
   "cell_type": "markdown",
   "id": "26bf1096",
   "metadata": {},
   "source": [
    "### CR\n",
    "* __H0__: CR групп мало различаются\n",
    "* __H1__: CR групп разные"
   ]
  },
  {
   "cell_type": "code",
   "execution_count": 269,
   "id": "29ae27ad",
   "metadata": {},
   "outputs": [
    {
     "data": {
      "image/png": "[encoded data removed]",
      "text/plain": [
       "<Figure size 432x288 with 1 Axes>"
      ]
     },
     "metadata": {},
     "output_type": "display_data"
    },
    {
     "data": {
      "text/plain": [
       "{'ci':               0\n",
       " 0.025 -0.012054\n",
       " 0.975  0.002209,\n",
       " 'p_value': 0.19434384125101833}"
      ]
     },
     "execution_count": 269,
     "metadata": {},
     "output_type": "execute_result"
    }
   ],
   "source": [
    " get_bootstrap(a_active.payment, b_active.payment, statistic = cr_func)"
   ]
  },
  {
   "cell_type": "markdown",
   "id": "529459a5",
   "metadata": {},
   "source": [
    "#### Так как нулевое значение попадает в доверительный интервал, то нельзя отвергать нулевую гипотезу и предполагать, что между группами есть отличие в CR. "
   ]
  },
  {
   "cell_type": "markdown",
   "id": "8ac13c1a",
   "metadata": {},
   "source": [
    "### ARPU\n",
    "* __H0__: ARPU обеих групп мало различаются\n",
    "* __H1__: ARPU различны"
   ]
  },
  {
   "cell_type": "code",
   "execution_count": 275,
   "id": "7851c6df",
   "metadata": {},
   "outputs": [
    {
     "data": {
      "image/png": "[encoded data removed]",
      "text/plain": [
       "<Figure size 432x288 with 1 Axes>"
      ]
     },
     "metadata": {},
     "output_type": "display_data"
    },
    {
     "data": {
      "text/plain": [
       "{'ci':                0\n",
       " 0.025   0.936404\n",
       " 0.975  20.719628,\n",
       " 'p_value': 0.03575507300622527}"
      ]
     },
     "execution_count": 275,
     "metadata": {},
     "output_type": "execute_result"
    }
   ],
   "source": [
    " get_bootstrap(a_active.rev, b_active.rev, statistic = arpu_func)"
   ]
  },
  {
   "cell_type": "markdown",
   "id": "24d86601",
   "metadata": {},
   "source": [
    "#### Ноль не попадает в доверительный интервал, следовательно, нулевая гипотеза отвергается. Различия в значениях ARPU статистически значимы."
   ]
  },
  {
   "cell_type": "markdown",
   "id": "6cf30b7a",
   "metadata": {},
   "source": [
    "### ARPPU\n",
    "* __H0__: ARPPU обеих групп мало различаются\n",
    "* __H1__: ARPPU различны"
   ]
  },
  {
   "cell_type": "code",
   "execution_count": 282,
   "id": "7cad889a",
   "metadata": {},
   "outputs": [
    {
     "data": {
      "image/png": "[encoded data removed]",
      "text/plain": [
       "<Figure size 432x288 with 1 Axes>"
      ]
     },
     "metadata": {},
     "output_type": "display_data"
    },
    {
     "data": {
      "text/plain": [
       "{'ci':                 0\n",
       " 0.025  187.700089\n",
       " 0.975  450.165535,\n",
       " 'p_value': 4.598001548963228e-06}"
      ]
     },
     "execution_count": 282,
     "metadata": {},
     "output_type": "execute_result"
    }
   ],
   "source": [
    "get_bootstrap(a_active.rev[a_active.rev>0], b_active.rev[b_active.rev>0], statistic = arppu_func)"
   ]
  },
  {
   "cell_type": "markdown",
   "id": "6049bd88",
   "metadata": {},
   "source": [
    "#### Ноль не попал в доверительный интервал, нулевая гипотеза отвергается. Различия в значениях ARPPU статистически значимы."
   ]
  },
  {
   "cell_type": "markdown",
   "id": "17dd5277",
   "metadata": {},
   "source": [
    "### Новый механизм стоит применить и для контрольной группы, т.к. статистически различия в CR не подтвердились, а, значит, уменьшение CR тестовой группы незначительно. А вот увеличение среднего дохода на пользователя/покупателя для нового механизма оказывается, наоборот, значимым. "
   ]
  }
 ],
 "metadata": {
  "kernelspec": {
   "display_name": "Python 3 (ipykernel)",
   "language": "python",
   "name": "python3"
  },
  "language_info": {
   "codemirror_mode": {
    "name": "ipython",
    "version": 3
   },
   "file_extension": ".py",
   "mimetype": "text/x-python",
   "name": "python",
   "nbconvert_exporter": "python",
   "pygments_lexer": "ipython3",
   "version": "3.10.2"
  }
 },
 "nbformat": 4,
 "nbformat_minor": 5
}
